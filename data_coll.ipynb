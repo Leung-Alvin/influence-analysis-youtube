{
 "cells": [
  {
   "cell_type": "code",
   "execution_count": 29,
   "metadata": {},
   "outputs": [
    {
     "name": "stdout",
     "output_type": "stream",
     "text": [
      "Date Wed, 01 Nov 2023 18:37:14 GMT\n",
      "Server Apache/2.4.6 (Red Hat Enterprise Linux) OpenSSL/1.0.2k-fips PHP/5.4.16\n",
      "Last-Modified Mon, 29 Sep 2008 23:05:59 GMT\n",
      "ETag \"b68829-45810e90543c0\"\n",
      "Accept-Ranges bytes\n",
      "Content-Length 11962409\n",
      "Connection close\n",
      "Content-Type application/zip\n"
     ]
    }
   ],
   "source": [
    "from urllib.request import urlretrieve\n",
    "import os\n",
    "from zipfile import ZipFile\n",
    "import shutil\n",
    "url = (\"https://netsg.cs.sfu.ca/youtubedata/080416.zip\")\n",
    "filename = \"data.zip\"\n",
    "dir_name = \"data\"\n",
    "path, headers = urlretrieve(url, filename)\n",
    "for name, value in headers.items():\n",
    "    print(name, value)"
   ]
  },
  {
   "cell_type": "code",
   "execution_count": 30,
   "metadata": {},
   "outputs": [],
   "source": [
    "with ZipFile(filename, 'r') as zObject: \n",
    "    # Extracting all the members of the zip  \n",
    "    # into a specific location. \n",
    "    zObject.extractall( \n",
    "        path=dir_name) "
   ]
  },
  {
   "cell_type": "code",
   "execution_count": 31,
   "metadata": {},
   "outputs": [
    {
     "data": {
      "text/plain": [
       "['0.txt', '1.txt', '2.txt', '3.txt', 'log.txt']"
      ]
     },
     "execution_count": 31,
     "metadata": {},
     "output_type": "execute_result"
    }
   ],
   "source": [
    "data_path = os.path.join(\"data\", \"080416\")\n",
    "os.listdir(data_path)"
   ]
  },
  {
   "cell_type": "code",
   "execution_count": 32,
   "metadata": {},
   "outputs": [],
   "source": [
    "#Delete file\n",
    "os.remove(filename)\n",
    "shutil.rmtree(data_path, ignore_errors=False, onerror=None)\n",
    "os.rmdir(dir_name)"
   ]
  }
 ],
 "metadata": {
  "kernelspec": {
   "display_name": "base",
   "language": "python",
   "name": "python3"
  },
  "language_info": {
   "codemirror_mode": {
    "name": "ipython",
    "version": 3
   },
   "file_extension": ".py",
   "mimetype": "text/x-python",
   "name": "python",
   "nbconvert_exporter": "python",
   "pygments_lexer": "ipython3",
   "version": "3.11.4"
  },
  "orig_nbformat": 4
 },
 "nbformat": 4,
 "nbformat_minor": 2
}
