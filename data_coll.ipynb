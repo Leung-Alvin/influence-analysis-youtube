{
 "cells": [
  {
   "cell_type": "code",
   "execution_count": 234,
   "metadata": {},
   "outputs": [
    {
     "name": "stdout",
     "output_type": "stream",
     "text": [
      "Date Thu, 02 Nov 2023 00:19:34 GMT\n",
      "Server Apache/2.4.6 (Red Hat Enterprise Linux) OpenSSL/1.0.2k-fips PHP/5.4.16\n",
      "Last-Modified Fri, 21 Mar 2008 07:56:12 GMT\n",
      "ETag \"66b28dc-448edd1d9bf00\"\n",
      "Accept-Ranges bytes\n",
      "Content-Length 107686108\n",
      "Connection close\n",
      "Content-Type application/zip\n"
     ]
    }
   ],
   "source": [
    "from urllib.request import urlretrieve\n",
    "import os\n",
    "from zipfile import ZipFile\n",
    "import shutil\n",
    "import pandas as pd\n",
    "file_name_on_web = \"0222\"\n",
    "url = (\"https://netsg.cs.sfu.ca/youtubedata/0222.zip\")\n",
    "filename = \"data.zip\"\n",
    "dir_name = \"data\"\n",
    "path, headers = urlretrieve(url, filename)\n",
    "for name, value in headers.items():\n",
    "    print(name, value)"
   ]
  },
  {
   "cell_type": "code",
   "execution_count": 235,
   "metadata": {},
   "outputs": [],
   "source": [
    "with ZipFile(filename, 'r') as zObject: \n",
    "    # Extracting all the members of the zip  \n",
    "    # into a specific location. \n",
    "    zObject.extractall( \n",
    "        path=dir_name) "
   ]
  },
  {
   "cell_type": "code",
   "execution_count": 236,
   "metadata": {},
   "outputs": [
    {
     "data": {
      "text/plain": [
       "'log.txt'"
      ]
     },
     "execution_count": 236,
     "metadata": {},
     "output_type": "execute_result"
    }
   ],
   "source": [
    "data_path = os.path.join(dir_name, file_name_on_web)\n",
    "files = os.listdir(data_path)\n",
    "files.pop()\n"
   ]
  },
  {
   "cell_type": "code",
   "execution_count": 237,
   "metadata": {},
   "outputs": [],
   "source": [
    "def get_lines(file):\n",
    "    text = open(os.path.join(data_path, file), 'r').read()\n",
    "    lines = []\n",
    "    for line in text.split('\\n'):\n",
    "        lines.append(line.split('\\t'))\n",
    "    return lines\n",
    "\n",
    "def get_df(file):\n",
    "    lines = get_lines(file)\n",
    "    df = pd.DataFrame(lines, columns=None)\n",
    "    return df\n",
    "\n",
    "def giant_df(files):\n",
    "    df = pd.DataFrame()\n",
    "    for file in files:\n",
    "        df = pd.concat([df, get_df(file)])\n",
    "    return df\n",
    "\n",
    "full_df = giant_df(files)"
   ]
  },
  {
   "cell_type": "code",
   "execution_count": 238,
   "metadata": {},
   "outputs": [
    {
     "data": {
      "text/html": [
       "<div>\n",
       "<style scoped>\n",
       "    .dataframe tbody tr th:only-of-type {\n",
       "        vertical-align: middle;\n",
       "    }\n",
       "\n",
       "    .dataframe tbody tr th {\n",
       "        vertical-align: top;\n",
       "    }\n",
       "\n",
       "    .dataframe thead th {\n",
       "        text-align: right;\n",
       "    }\n",
       "</style>\n",
       "<table border=\"1\" class=\"dataframe\">\n",
       "  <thead>\n",
       "    <tr style=\"text-align: right;\">\n",
       "      <th></th>\n",
       "      <th>0</th>\n",
       "      <th>1</th>\n",
       "      <th>2</th>\n",
       "      <th>3</th>\n",
       "      <th>4</th>\n",
       "      <th>5</th>\n",
       "      <th>6</th>\n",
       "      <th>7</th>\n",
       "      <th>8</th>\n",
       "      <th>9</th>\n",
       "      <th>...</th>\n",
       "      <th>19</th>\n",
       "      <th>20</th>\n",
       "      <th>21</th>\n",
       "      <th>22</th>\n",
       "      <th>23</th>\n",
       "      <th>24</th>\n",
       "      <th>25</th>\n",
       "      <th>26</th>\n",
       "      <th>27</th>\n",
       "      <th>28</th>\n",
       "    </tr>\n",
       "  </thead>\n",
       "  <tbody>\n",
       "    <tr>\n",
       "      <th>0</th>\n",
       "      <td>LKh7zAJ4nwo</td>\n",
       "      <td>TheReceptionist</td>\n",
       "      <td>653</td>\n",
       "      <td>Entertainment</td>\n",
       "      <td>424</td>\n",
       "      <td>13021</td>\n",
       "      <td>4.34</td>\n",
       "      <td>1305</td>\n",
       "      <td>744</td>\n",
       "      <td>DjdA-5oKYFQ</td>\n",
       "      <td>...</td>\n",
       "      <td>vmdPOOd6cxI</td>\n",
       "      <td>KRHfMQqSHpk</td>\n",
       "      <td>pIMpORZthYw</td>\n",
       "      <td>1tUDzOp10pk</td>\n",
       "      <td>heqocRij5P0</td>\n",
       "      <td>_XIuvoH6rUg</td>\n",
       "      <td>LGVU5DsezE0</td>\n",
       "      <td>uO2kj6_D8B4</td>\n",
       "      <td>xiDqywcDQRM</td>\n",
       "      <td>uX81lMev6_o</td>\n",
       "    </tr>\n",
       "  </tbody>\n",
       "</table>\n",
       "<p>1 rows × 29 columns</p>\n",
       "</div>"
      ],
      "text/plain": [
       "            0                1    2              3    4      5     6     7   \\\n",
       "0  LKh7zAJ4nwo  TheReceptionist  653  Entertainment  424  13021  4.34  1305   \n",
       "\n",
       "    8            9   ...           19           20           21           22  \\\n",
       "0  744  DjdA-5oKYFQ  ...  vmdPOOd6cxI  KRHfMQqSHpk  pIMpORZthYw  1tUDzOp10pk   \n",
       "\n",
       "            23           24           25           26           27  \\\n",
       "0  heqocRij5P0  _XIuvoH6rUg  LGVU5DsezE0  uO2kj6_D8B4  xiDqywcDQRM   \n",
       "\n",
       "            28  \n",
       "0  uX81lMev6_o  \n",
       "\n",
       "[1 rows x 29 columns]"
      ]
     },
     "execution_count": 238,
     "metadata": {},
     "output_type": "execute_result"
    }
   ],
   "source": [
    "full_df.iloc[[0],:]"
   ]
  },
  {
   "cell_type": "code",
   "execution_count": 239,
   "metadata": {},
   "outputs": [],
   "source": [
    "# def read_file(file):\n",
    "#     data = pd.read_csv(os.path.join(data_path, file), sep=\"\\t\", header=None)\n",
    "#     columns = [\"video_id\", \"uploader\", \"age\", \"category\", \"length\", \"views\", \"rate\", \"ratings\", \"comments\"]\n",
    "#     main_data = data.loc[:,[0,1,2,3,4,5,6,7,8]]\n",
    "#     related_ids = data.loc[:,[9,10,11,12,13,14,15,16,17,18,19,20,21,22,23,24,25,26,27,28]]\n",
    "#     rows = list()\n",
    "#     for i in range(0,len(related_ids)):\n",
    "#         row = related_ids.iloc[[i],:].values.flatten().tolist()\n",
    "#         rows.append(row)\n",
    "#     rows_df = pd.DataFrame({\"related_ids\": rows})\n",
    "#     #sample row\n",
    "#     # len(rows_df.iloc[[0],:].values[0][0][0])\n",
    "#     main_data.columns= columns\n",
    "#     new_df = pd.concat([main_data, rows_df], axis=1)\n",
    "#     return new_df\n",
    "\n",
    "# def read_all_files(files):\n",
    "#     df = pd.DataFrame()\n",
    "#     for file in files:\n",
    "#         print(file)\n",
    "#         df = pd.concat([df, read_file(file)], axis=0)\n",
    "#     return df\n",
    "\n",
    "# read_all_files(files).to_csv(\"data.csv\", index=False)"
   ]
  },
  {
   "cell_type": "code",
   "execution_count": null,
   "metadata": {},
   "outputs": [],
   "source": []
  },
  {
   "cell_type": "code",
   "execution_count": 240,
   "metadata": {},
   "outputs": [],
   "source": [
    "# #Read a file\n",
    "\n",
    "# data = pd.read_csv(os.path.join(data_path, files[0]), sep=\"\\t\", header=None)\n",
    "# columns = [\"video_id\", \"uploader\", \"age\", \"category\", \"length\", \"views\", \"rate\", \"ratings\", \"comments\"]\n",
    "# main_data = data.loc[:,[0,1,2,3,4,5,6,7,8]]\n",
    "# related_ids = data.loc[:,[9,10,11,12,13,14,15,16,17,18,19,20,21,22,23,24,25,26,27,28]]\n",
    "# rows = list()\n",
    "# for i in range(0,len(related_ids)):\n",
    "#     row = related_ids.iloc[[i],:].values.flatten().tolist()\n",
    "#     rows.append(row)\n",
    "# rows_df = pd.DataFrame({\"related_ids\": rows})\n",
    "# #sample row\n",
    "# # len(rows_df.iloc[[0],:].values[0][0][0])\n",
    "# main_data.columns= columns\n",
    "# new_df = pd.concat([main_data, rows_df], axis=1)\n",
    "# new_df"
   ]
  },
  {
   "cell_type": "code",
   "execution_count": null,
   "metadata": {},
   "outputs": [],
   "source": []
  },
  {
   "cell_type": "code",
   "execution_count": 241,
   "metadata": {},
   "outputs": [],
   "source": [
    "# How to iterate over the related_ids\n",
    "# row = new_df.loc[[0],\"related_ids\"]\n",
    "# for id in row[0]:\n",
    "#     print(id)"
   ]
  },
  {
   "cell_type": "code",
   "execution_count": 242,
   "metadata": {},
   "outputs": [],
   "source": [
    "#Delete files\n",
    "os.remove(filename)\n",
    "shutil.rmtree(data_path, ignore_errors=False, onerror=None)\n",
    "os.rmdir(dir_name)"
   ]
  }
 ],
 "metadata": {
  "kernelspec": {
   "display_name": "base",
   "language": "python",
   "name": "python3"
  },
  "language_info": {
   "codemirror_mode": {
    "name": "ipython",
    "version": 3
   },
   "file_extension": ".py",
   "mimetype": "text/x-python",
   "name": "python",
   "nbconvert_exporter": "python",
   "pygments_lexer": "ipython3",
   "version": "3.11.4"
  },
  "orig_nbformat": 4
 },
 "nbformat": 4,
 "nbformat_minor": 2
}
